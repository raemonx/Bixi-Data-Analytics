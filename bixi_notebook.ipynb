{
 "cells": [
  {
   "cell_type": "code",
   "execution_count": 0,
   "metadata": {
    "application/vnd.databricks.v1+cell": {
     "cellMetadata": {
      "byteLimit": 2048000,
      "rowLimit": 10000
     },
     "inputWidgets": {},
     "nuid": "d10708de-bfaf-4427-83de-4447331bfd79",
     "showTitle": false,
     "title": ""
    }
   },
   "outputs": [],
   "source": [
    "# Mounting the storage\n",
    "# Using the wasbs scheme for Azure Blob Storage\n",
    "storage_account_name = \"*******\"\n",
    "storage_account_key = \"***********************************************\"\n",
    "\n",
    "# Set Spark configuration for account key\n",
    "spark.conf.set(\n",
    "  f\"fs.azure.account.key.{storage_account_name}.blob.core.windows.net\",\n",
    "  storage_account_key\n",
    ")\n",
    "\n",
    "mount_point = \"/mnt/bixidata\"\n",
    "\n",
    "# Mount the storage account\n",
    "mount_points = dbutils.fs.mounts()\n",
    "is_mounted = any(mount.mountPoint == mount_point for mount in mount_points)\n",
    "\n",
    "if not is_mounted:\n",
    "    dbutils.fs.mount(\n",
    "        source=f\"wasbs://bixi-data@{storage_account_name}.blob.core.windows.net\",\n",
    "        mount_point=mount_point,\n",
    "        extra_configs={f\"fs.azure.account.key.{storage_account_name}.blob.core.windows.net\": storage_account_key}\n",
    "    )\n",
    "\n",
    "\n"
   ]
  },
  {
   "cell_type": "code",
   "execution_count": 0,
   "metadata": {
    "application/vnd.databricks.v1+cell": {
     "cellMetadata": {
      "byteLimit": 2048000,
      "rowLimit": 10000
     },
     "inputWidgets": {},
     "nuid": "14624e0d-4726-46bb-ae91-c5fc7037d514",
     "showTitle": false,
     "title": ""
    }
   },
   "outputs": [
    {
     "output_type": "display_data",
     "data": {
      "text/html": [
       "<style scoped>\n",
       "  .table-result-container {\n",
       "    max-height: 300px;\n",
       "    overflow: auto;\n",
       "  }\n",
       "  table, th, td {\n",
       "    border: 1px solid black;\n",
       "    border-collapse: collapse;\n",
       "  }\n",
       "  th, td {\n",
       "    padding: 5px;\n",
       "  }\n",
       "  th {\n",
       "    text-align: left;\n",
       "  }\n",
       "</style><div class='table-result-container'><table class='table-result'><thead style='background-color: white'><tr><th>path</th><th>name</th><th>size</th><th>modificationTime</th></tr></thead><tbody><tr><td>dbfs:/mnt/bixidata/live-data/</td><td>live-data/</td><td>0</td><td>0</td></tr><tr><td>dbfs:/mnt/bixidata/transformed-data/</td><td>transformed-data/</td><td>0</td><td>0</td></tr></tbody></table></div>"
      ]
     },
     "metadata": {
      "application/vnd.databricks.v1+output": {
       "addedWidgets": {},
       "aggData": [],
       "aggError": "",
       "aggOverflow": false,
       "aggSchema": [],
       "aggSeriesLimitReached": false,
       "aggType": "",
       "arguments": {},
       "columnCustomDisplayInfos": {},
       "data": [
        [
         "dbfs:/mnt/bixidata/live-data/",
         "live-data/",
         0,
         0
        ],
        [
         "dbfs:/mnt/bixidata/transformed-data/",
         "transformed-data/",
         0,
         0
        ]
       ],
       "datasetInfos": [],
       "dbfsResultPath": null,
       "isJsonSchema": true,
       "metadata": {},
       "overflow": false,
       "plotOptions": {
        "customPlotOptions": {},
        "displayType": "table",
        "pivotAggregation": null,
        "pivotColumns": null,
        "xColumns": null,
        "yColumns": null
       },
       "removedWidgets": [],
       "schema": [
        {
         "metadata": "{}",
         "name": "path",
         "type": "\"string\""
        },
        {
         "metadata": "{}",
         "name": "name",
         "type": "\"string\""
        },
        {
         "metadata": "{}",
         "name": "size",
         "type": "\"long\""
        },
        {
         "metadata": "{}",
         "name": "modificationTime",
         "type": "\"long\""
        }
       ],
       "type": "table"
      }
     },
     "output_type": "display_data"
    }
   ],
   "source": [
    "# Verify the mount\n",
    "display(dbutils.fs.ls(\"/mnt/bixidata\"))"
   ]
  },
  {
   "cell_type": "code",
   "execution_count": 0,
   "metadata": {
    "application/vnd.databricks.v1+cell": {
     "cellMetadata": {
      "byteLimit": 2048000,
      "rowLimit": 10000
     },
     "inputWidgets": {},
     "nuid": "0105a10f-9b9c-4a7a-b0e8-36e65e4c77a8",
     "showTitle": false,
     "title": ""
    }
   },
   "outputs": [],
   "source": [
    "# List the files in the directory\n",
    "status_files = dbutils.fs.ls(\"/mnt/bixidata/live-data/station_status.json\")\n",
    "info_files = dbutils.fs.ls(\"/mnt/bixidata/live-data/station_information.json\")\n",
    "\n",
    "# Extract the paths from the file information\n",
    "status_file_paths = [file.path for file in status_files]\n",
    "info_file_paths = [file.path for file in info_files]\n",
    "\n",
    "# Import the col and explode \n",
    "from pyspark.sql.functions import col, explode\n",
    "\n",
    "# Read the JSON files\n",
    "station_status_raw_df = spark.read.json(status_file_paths).withColumn(\"last_updated\", col(\"last_updated\"))\n",
    "station_info_raw_df = spark.read.json(info_file_paths).withColumn(\"last_updated\", col(\"last_updated\"))\n",
    "\n",
    "# Extract the stations data\n",
    "station_status_df = station_status_raw_df.selectExpr(\"last_updated\", \"explode(data.stations) as station\")\n",
    "station_info_df = station_info_raw_df.selectExpr(\"last_updated\", \"explode(data.stations) as station\")\n",
    "\n",
    "\n",
    "# Select the relevant fields from the exploded data\n",
    "station_status_df = station_status_df.select(\"last_updated\", \"station.*\")\n",
    "station_info_df = station_info_df.select(\"last_updated\", \"station.*\")\n",
    "\n",
    "# Select relevant columns \n",
    "station_status_df = station_status_df.select(\n",
    "    \"last_updated\",\n",
    "    \"station_id\", \n",
    "    \"num_bikes_available\", \n",
    "    \"num_ebikes_available\", \n",
    "    \"num_bikes_disabled\", \n",
    "    \"num_docks_available\", \n",
    "    \"num_docks_disabled\",\n",
    "    \"is_charging\", \n",
    "    \"is_installed\", \n",
    "    \"is_renting\", \n",
    "    \"is_returning\", \n",
    "    \"last_reported\"\n",
    ")\n",
    "\n",
    "station_info_df = station_info_df.select(\n",
    "    \"station_id\",\n",
    "    \"name\", \n",
    "    \"lat\", \n",
    "    \"lon\", \n",
    "    \"capacity\"\n",
    ")\n",
    "\n"
   ]
  },
  {
   "cell_type": "code",
   "execution_count": 0,
   "metadata": {
    "application/vnd.databricks.v1+cell": {
     "cellMetadata": {
      "byteLimit": 2048000,
      "rowLimit": 10000
     },
     "inputWidgets": {},
     "nuid": "c6cf136b-fdcb-4fc8-b915-75c541720785",
     "showTitle": false,
     "title": ""
    }
   },
   "outputs": [
    {
     "output_type": "stream",
     "name": "stdout",
     "output_type": "stream",
     "text": [
      "+----------+--------------------+------------------+------------------+--------+\n|station_id|                name|               lat|               lon|capacity|\n+----------+--------------------+------------------+------------------+--------+\n|         1|Métro Champ-de-Ma...| 45.50956143036354|-73.55743234369584|      19|\n|         2|Ste-Catherine / D...|45.539385081961676|-73.54099988937377|      26|\n|         3|       Clark / Evans|45.511105776623936|-73.56784012175922|      19|\n|         4|du Champ-de-Mars ...| 45.50965520472071|-73.55400860309601|      23|\n|         5|  Brittany / Ainsley| 45.52588991809354|-73.65003436803818|      19|\n|         6|    Ann / Wellington|45.494520387544334|-73.55676591396332|      15|\n|         7|de l'Hôtel-de-Vil...| 45.51166045593874|-73.56213569641113|      31|\n|         8|Ste-Catherine / S...|45.512936177874096|-73.56124520301817|      39|\n|         9|Crescent / de Mai...| 45.49812041247333|-73.57759594917297|      23|\n|        10|de Grosbois / Duc...|45.611230741550536| -73.5312415660519|      15|\n|        11|de la Porte de Qu...| 45.51329411414168|-73.55057805776596|      23|\n|        12|Mansfield / Ste-C...| 45.50140664031126|-73.57165485620499|      43|\n|        13|Sanguinet / de Ma...| 45.51344071816516|-73.56261849403381|      31|\n|        14|St-Denis / Ste-Ca...| 45.51372291221464| -73.5603104531765|      43|\n|        15|Ste-Catherine / S...|  45.5138663042805|-73.56042764151425|      15|\n|        16|Jacques-Le Ber / ...| 45.47259900304475| -73.5398056358099|      27|\n|        17|Atateken / du Squ...| 45.52058271176779|-73.56395011160203|      19|\n|        18|  St-André / Ontario|          45.51889|         -73.56353|      19|\n|        19|Métro Sherbrooke ...| 45.51814312154928|-73.56800436973572|      27|\n|        20|de l'Hotel-de-Vil...| 45.51374520222444|-73.56666326522826|      27|\n+----------+--------------------+------------------+------------------+--------+\nonly showing top 20 rows\n\n"
     ]
    }
   ],
   "source": [
    "station_info_df.show()\n",
    "\n"
   ]
  },
  {
   "cell_type": "code",
   "execution_count": 0,
   "metadata": {
    "application/vnd.databricks.v1+cell": {
     "cellMetadata": {
      "byteLimit": 2048000,
      "rowLimit": 10000
     },
     "inputWidgets": {},
     "nuid": "2e0b1143-ac8c-478b-98b1-ff323bae5ee7",
     "showTitle": false,
     "title": ""
    }
   },
   "outputs": [],
   "source": [
    "# Merge DataFrames on station_id\n",
    "merged_df = station_status_df.join(station_info_df, on=\"station_id\" ,how=\"inner\")"
   ]
  },
  {
   "cell_type": "code",
   "execution_count": 0,
   "metadata": {
    "application/vnd.databricks.v1+cell": {
     "cellMetadata": {
      "byteLimit": 2048000,
      "rowLimit": 10000
     },
     "inputWidgets": {},
     "nuid": "8540d0d0-aa68-408b-906f-09bcde75ae0b",
     "showTitle": false,
     "title": ""
    }
   },
   "outputs": [
    {
     "output_type": "stream",
     "name": "stdout",
     "output_type": "stream",
     "text": [
      "+----------+------------+-------------------+--------------------+------------------+-------------------+------------------+-----------+------------+----------+------------+-------------+--------------------+------------------+------------------+--------+\n|station_id|last_updated|num_bikes_available|num_ebikes_available|num_bikes_disabled|num_docks_available|num_docks_disabled|is_charging|is_installed|is_renting|is_returning|last_reported|                name|               lat|               lon|capacity|\n+----------+------------+-------------------+--------------------+------------------+-------------------+------------------+-----------+------------+----------+------------+-------------+--------------------+------------------+------------------+--------+\n|         1|  1720709470|                 14|                   2|                 0|                  5|                 0|      false|           1|         1|           1|   1720708234|Métro Champ-de-Ma...| 45.50956143036354|-73.55743234369584|      19|\n|         2|  1720709470|                  5|                   0|                 0|                 21|                 0|      false|           1|         1|           1|   1720709466|Ste-Catherine / D...|45.539385081961676|-73.54099988937377|      26|\n|         3|  1720709470|                  8|                   2|                 0|                 11|                 0|      false|           1|         1|           1|   1720708762|       Clark / Evans|45.511105776623936|-73.56784012175922|      19|\n|         4|  1720709470|                 11|                   0|                 2|                 10|                 0|      false|           1|         1|           1|   1720708062|du Champ-de-Mars ...| 45.50965520472071|-73.55400860309601|      23|\n|         5|  1720709470|                 10|                   4|                 1|                  8|                 0|      false|           1|         1|           1|   1720705896|  Brittany / Ainsley| 45.52588991809354|-73.65003436803818|      19|\n|         6|  1720709470|                  4|                   0|                 0|                 11|                 0|      false|           1|         1|           1|   1720707900|    Ann / Wellington|45.494520387544334|-73.55676591396332|      15|\n|         7|  1720709470|                  2|                   1|                 0|                 29|                 0|      false|           1|         1|           1|   1720709370|de l'Hôtel-de-Vil...| 45.51166045593874|-73.56213569641113|      31|\n|         8|  1720709470|                 10|                   0|                 1|                 28|                 0|      false|           1|         1|           1|   1720707364|Ste-Catherine / S...|45.512936177874096|-73.56124520301817|      39|\n|         9|  1720709470|                 22|                   9|                 0|                  1|                 0|      false|           1|         1|           1|   1720709168|Crescent / de Mai...| 45.49812041247333|-73.57759594917297|      23|\n|        10|  1720709470|                  1|                   1|                 2|                 12|                 0|      false|           1|         1|           1|   1720708556|de Grosbois / Duc...|45.611230741550536| -73.5312415660519|      15|\n|        11|  1720709470|                  1|                   0|                 0|                 22|                 0|      false|           1|         1|           1|   1720707725|de la Porte de Qu...| 45.51329411414168|-73.55057805776596|      23|\n|        12|  1720709470|                 35|                   6|                 0|                  8|                 0|      false|           1|         1|           1|   1720708907|Mansfield / Ste-C...| 45.50140664031126|-73.57165485620499|      43|\n|        13|  1720709470|                  2|                   1|                 0|                 29|                 0|      false|           1|         1|           1|   1720709434|Sanguinet / de Ma...| 45.51344071816516|-73.56261849403381|      31|\n|        14|  1720709470|                 17|                   3|                 1|                 25|                 0|      false|           1|         1|           1|   1720709329|St-Denis / Ste-Ca...| 45.51372291221464| -73.5603104531765|      43|\n|        15|  1720709470|                 15|                   0|                 0|                  0|                 0|      false|           1|         1|           1|   1720709417|Ste-Catherine / S...|  45.5138663042805|-73.56042764151425|      15|\n|        16|  1720709470|                 10|                   3|                 0|                 17|                 0|      false|           1|         1|           1|   1720706183|Jacques-Le Ber / ...| 45.47259900304475| -73.5398056358099|      27|\n|        17|  1720709470|                  3|                   0|                 0|                 16|                 0|      false|           1|         1|           1|   1720708043|Atateken / du Squ...| 45.52058271176779|-73.56395011160203|      19|\n|        18|  1720709470|                  1|                   1|                 0|                 18|                 0|      false|           1|         1|           1|   1720709036|  St-André / Ontario|          45.51889|         -73.56353|      19|\n|        19|  1720709470|                 26|                   2|                 0|                  1|                 0|      false|           1|         1|           1|   1720709147|Métro Sherbrooke ...| 45.51814312154928|-73.56800436973572|      27|\n|        20|  1720709470|                  0|                   0|                 1|                 26|                 0|      false|           1|         1|           1|   1720706061|de l'Hotel-de-Vil...| 45.51374520222444|-73.56666326522826|      27|\n+----------+------------+-------------------+--------------------+------------------+-------------------+------------------+-----------+------------+----------+------------+-------------+--------------------+------------------+------------------+--------+\nonly showing top 20 rows\n\n"
     ]
    }
   ],
   "source": [
    "merged_df.show()"
   ]
  },
  {
   "cell_type": "code",
   "execution_count": 0,
   "metadata": {
    "application/vnd.databricks.v1+cell": {
     "cellMetadata": {
      "byteLimit": 2048000,
      "rowLimit": 10000
     },
     "inputWidgets": {},
     "nuid": "c136e36a-eaa9-49fb-9507-8630b272302e",
     "showTitle": false,
     "title": ""
    }
   },
   "outputs": [
    {
     "output_type": "display_data",
     "data": {
      "text/html": [
       "<style scoped>\n",
       "  .table-result-container {\n",
       "    max-height: 300px;\n",
       "    overflow: auto;\n",
       "  }\n",
       "  table, th, td {\n",
       "    border: 1px solid black;\n",
       "    border-collapse: collapse;\n",
       "  }\n",
       "  th, td {\n",
       "    padding: 5px;\n",
       "  }\n",
       "  th {\n",
       "    text-align: left;\n",
       "  }\n",
       "</style><div class='table-result-container'><table class='table-result'><thead style='background-color: white'><tr><th>path</th><th>name</th><th>size</th><th>modificationTime</th></tr></thead><tbody><tr><td>dbfs:/mnt/bixidata/transformed-data/bixi_station_data.csv</td><td>bixi_station_data.csv</td><td>299832</td><td>1720708664000</td></tr></tbody></table></div>"
      ]
     },
     "metadata": {
      "application/vnd.databricks.v1+output": {
       "addedWidgets": {},
       "aggData": [],
       "aggError": "",
       "aggOverflow": false,
       "aggSchema": [],
       "aggSeriesLimitReached": false,
       "aggType": "",
       "arguments": {},
       "columnCustomDisplayInfos": {},
       "data": [
        [
         "dbfs:/mnt/bixidata/transformed-data/bixi_station_data.csv",
         "bixi_station_data.csv",
         299832,
         1720708664000
        ]
       ],
       "datasetInfos": [],
       "dbfsResultPath": null,
       "isJsonSchema": true,
       "metadata": {},
       "overflow": false,
       "plotOptions": {
        "customPlotOptions": {},
        "displayType": "table",
        "pivotAggregation": null,
        "pivotColumns": null,
        "xColumns": null,
        "yColumns": null
       },
       "removedWidgets": [],
       "schema": [
        {
         "metadata": "{}",
         "name": "path",
         "type": "\"string\""
        },
        {
         "metadata": "{}",
         "name": "name",
         "type": "\"string\""
        },
        {
         "metadata": "{}",
         "name": "size",
         "type": "\"long\""
        },
        {
         "metadata": "{}",
         "name": "modificationTime",
         "type": "\"long\""
        }
       ],
       "type": "table"
      }
     },
     "output_type": "display_data"
    }
   ],
   "source": [
    "display(dbutils.fs.ls(\"/mnt/bixidata/transformed-data\"))"
   ]
  },
  {
   "cell_type": "code",
   "execution_count": 0,
   "metadata": {
    "application/vnd.databricks.v1+cell": {
     "cellMetadata": {
      "byteLimit": 2048000,
      "rowLimit": 10000
     },
     "inputWidgets": {},
     "nuid": "7c3cd8d9-0883-41ed-8161-721a37ad0ada",
     "showTitle": false,
     "title": ""
    }
   },
   "outputs": [
    {
     "output_type": "stream",
     "name": "stdout",
     "output_type": "stream",
     "text": [
      "/dbfs/mnt/bixidata/transformed-data/bixi_station_data.csv\n"
     ]
    }
   ],
   "source": [
    "# Import pandas for saving as csv\n",
    "import pandas as pd\n",
    "import os\n",
    "\n",
    "# Convert Spark DF to Pandas DF\n",
    "pandas_df = merged_df.toPandas()\n",
    "\n",
    "# Define the file path\n",
    "output_file = \"/dbfs/mnt/bixidata/transformed-data/bixi_station_data.csv\"\n",
    "print(output_file)\n",
    "\n",
    "# Data Cleaning\n",
    "if os.path.exists(output_file):\n",
    "    df = pd.read_csv(output_file)\n",
    "    df = df.drop_duplicates()\n",
    "    df.to_csv(output_file, index=False)\n",
    "pandas_df = pandas_df.drop_duplicates()\n",
    "\n",
    "\n",
    "\n",
    "# Check if the file exists\n",
    "if os.path.exists(output_file):\n",
    "    # If the file exists, read the existing data and append\n",
    "    existing_df = pd.read_csv(output_file)\n",
    "    combined_df = pd.concat([existing_df, pandas_df], ignore_index=True)\n",
    "else:\n",
    "    # If the file does not exist, create the csv\n",
    "    combined_df = pandas_df\n",
    "\n",
    "# Save the combined DataFrame to CSV\n",
    "combined_df.to_csv(output_file, index=False)\n",
    "\n",
    "\n"
   ]
  }
 ],
 "metadata": {
  "application/vnd.databricks.v1+notebook": {
   "dashboards": [],
   "environmentMetadata": null,
   "language": "python",
   "notebookMetadata": {
    "pythonIndentUnit": 4
   },
   "notebookName": "bixi_notebook",
   "widgets": {}
  }
 },
 "nbformat": 4,
 "nbformat_minor": 0
}
